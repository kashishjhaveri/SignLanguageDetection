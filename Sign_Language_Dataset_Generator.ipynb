{
 "cells": [
  {
   "cell_type": "code",
   "execution_count": 1,
   "id": "31903a0c",
   "metadata": {},
   "outputs": [],
   "source": [
    "import cv2\n",
    "import os\n",
    "import time\n",
    "import uuid"
   ]
  },
  {
   "cell_type": "code",
   "execution_count": 2,
   "id": "3ba63a8a",
   "metadata": {},
   "outputs": [],
   "source": [
    "IMG_PATH = \"SignLanguageDetection\\\\Tensorflow\\\\workspace\\\\images\"\n",
    "labels = ['hello','thanks','yes','no','sorry']\n",
    "number_imgs = 2"
   ]
  },
  {
   "cell_type": "code",
   "execution_count": 3,
   "id": "e48bb5bb",
   "metadata": {
    "scrolled": true
   },
   "outputs": [
    {
     "name": "stderr",
     "output_type": "stream",
     "text": [
      "A subdirectory or file SignLanguageDetection\\Tensorflow\\workspace\\images\\collectedimages\\hello already exists.\n",
      "A subdirectory or file C:\\\\Users\\kashi\\Downloads\\SignLanguageDetectionImg\\hello already exists.\n"
     ]
    },
    {
     "name": "stdout",
     "output_type": "stream",
     "text": [
      "collecting images for hello\n",
      "C:\\\\Users\\kashi\\SignLanguageDetection\\Tensorflow\\workspace\\images\\hello\\hello.97d34e62-ed7a-11eb-8743-e4b97af7012b.jpg\n",
      "C:\\\\Users\\kashi\\SignLanguageDetection\\Tensorflow\\workspace\\images\\hello\\hello.9a27d7ac-ed7a-11eb-ac69-e4b97af7012b.jpg\n"
     ]
    },
    {
     "name": "stderr",
     "output_type": "stream",
     "text": [
      "A subdirectory or file SignLanguageDetection\\Tensorflow\\workspace\\images\\collectedimages\\thanks already exists.\n",
      "A subdirectory or file C:\\\\Users\\kashi\\Downloads\\SignLanguageDetectionImg\\thanks already exists.\n"
     ]
    },
    {
     "name": "stdout",
     "output_type": "stream",
     "text": [
      "collecting images for thanks\n",
      "C:\\\\Users\\kashi\\SignLanguageDetection\\Tensorflow\\workspace\\images\\thanks\\thanks.a0e2a924-ed7a-11eb-8b7c-e4b97af7012b.jpg\n",
      "C:\\\\Users\\kashi\\SignLanguageDetection\\Tensorflow\\workspace\\images\\thanks\\thanks.a2b28e98-ed7a-11eb-b1af-e4b97af7012b.jpg\n"
     ]
    },
    {
     "name": "stderr",
     "output_type": "stream",
     "text": [
      "A subdirectory or file SignLanguageDetection\\Tensorflow\\workspace\\images\\collectedimages\\yes already exists.\n",
      "A subdirectory or file C:\\\\Users\\kashi\\Downloads\\SignLanguageDetectionImg\\yes already exists.\n"
     ]
    },
    {
     "name": "stdout",
     "output_type": "stream",
     "text": [
      "collecting images for yes\n",
      "C:\\\\Users\\kashi\\SignLanguageDetection\\Tensorflow\\workspace\\images\\yes\\yes.a9ec2612-ed7a-11eb-8b22-e4b97af7012b.jpg\n",
      "C:\\\\Users\\kashi\\SignLanguageDetection\\Tensorflow\\workspace\\images\\yes\\yes.ac047efe-ed7a-11eb-8baa-e4b97af7012b.jpg\n"
     ]
    },
    {
     "name": "stderr",
     "output_type": "stream",
     "text": [
      "A subdirectory or file SignLanguageDetection\\Tensorflow\\workspace\\images\\collectedimages\\no already exists.\n",
      "A subdirectory or file C:\\\\Users\\kashi\\Downloads\\SignLanguageDetectionImg\\no already exists.\n"
     ]
    },
    {
     "name": "stdout",
     "output_type": "stream",
     "text": [
      "collecting images for no\n",
      "C:\\\\Users\\kashi\\SignLanguageDetection\\Tensorflow\\workspace\\images\\no\\no.b32f4092-ed7a-11eb-a642-e4b97af7012b.jpg\n",
      "C:\\\\Users\\kashi\\SignLanguageDetection\\Tensorflow\\workspace\\images\\no\\no.b5002e74-ed7a-11eb-a03e-e4b97af7012b.jpg\n"
     ]
    },
    {
     "name": "stderr",
     "output_type": "stream",
     "text": [
      "A subdirectory or file SignLanguageDetection\\Tensorflow\\workspace\\images\\collectedimages\\sorry already exists.\n",
      "A subdirectory or file C:\\\\Users\\kashi\\Downloads\\SignLanguageDetectionImg\\sorry already exists.\n"
     ]
    },
    {
     "name": "stdout",
     "output_type": "stream",
     "text": [
      "collecting images for sorry\n",
      "C:\\\\Users\\kashi\\SignLanguageDetection\\Tensorflow\\workspace\\images\\sorry\\sorry.bc02db9c-ed7a-11eb-b545-e4b97af7012b.jpg\n",
      "C:\\\\Users\\kashi\\SignLanguageDetection\\Tensorflow\\workspace\\images\\sorry\\sorry.bdd24148-ed7a-11eb-9ef0-e4b97af7012b.jpg\n"
     ]
    }
   ],
   "source": [
    "for label in labels:\n",
    "    !mkdir {'SignLanguageDetection\\\\Tensorflow\\\\workspace\\\\images\\\\collectedimages\\\\'+label}\n",
    "    !mkdir {'C:\\\\\\\\Users\\\\kashi\\\\Downloads\\\\SignLanguageDetectionImg\\\\'+label}\n",
    "    cap = cv2.VideoCapture(0)\n",
    "    print('collecting images for '+label)\n",
    "    time.sleep(5)\n",
    "    for imgnum in range(number_imgs):\n",
    "        ret, frame = cap.read()\n",
    "        imgname = 'C:\\\\\\\\Users\\\\kashi\\\\'+IMG_PATH +'\\\\'+label + '\\\\'+label+'.'+'{}.jpg'.format(str(uuid.uuid1()))\n",
    "        imgname2 = 'C:\\\\\\\\Users\\\\kashi\\\\Downloads\\\\SignLanguageDetectionImg\\\\'+label + '\\\\'+label+'.'+'{}.jpg'.format(str(uuid.uuid1()))\n",
    "        print(imgname)\n",
    "        cv2.imwrite(imgname,frame)\n",
    "        cv2.imwrite(imgname2,frame)\n",
    "        cv2.imshow('frame',frame)\n",
    "        time.sleep(3)\n",
    "\n",
    "        if cv2.waitKey(1) & 0xFF == ord('q'):\n",
    "            break\n",
    "    cap.release()"
   ]
  },
  {
   "cell_type": "code",
   "execution_count": 4,
   "id": "1a4840f9",
   "metadata": {},
   "outputs": [],
   "source": [
    "cap.release()"
   ]
  },
  {
   "cell_type": "code",
   "execution_count": 7,
   "id": "2cf27f43",
   "metadata": {},
   "outputs": [
    {
     "data": {
      "text/plain": [
       "<module 'ntpath' from 'C:\\\\Users\\\\kashi\\\\AppData\\\\Local\\\\Continuum\\\\anaconda3\\\\lib\\\\ntpath.py'>"
      ]
     },
     "execution_count": 7,
     "metadata": {},
     "output_type": "execute_result"
    }
   ],
   "source": [
    "os.path.join"
   ]
  },
  {
   "cell_type": "code",
   "execution_count": 8,
   "id": "8d826157",
   "metadata": {},
   "outputs": [
    {
     "data": {
      "text/plain": [
       "\"<module 'ntpath' from 'C:\\\\\\\\Users\\\\\\\\kashi\\\\\\\\AppData\\\\\\\\Local\\\\\\\\Continuum\\\\\\\\anaconda3\\\\\\\\lib\\\\\\\\ntpath.py'>\""
      ]
     },
     "execution_count": 8,
     "metadata": {},
     "output_type": "execute_result"
    }
   ],
   "source": [
    "str(os.path)"
   ]
  },
  {
   "cell_type": "code",
   "execution_count": null,
   "id": "8f297146",
   "metadata": {},
   "outputs": [],
   "source": []
  }
 ],
 "metadata": {
  "kernelspec": {
   "display_name": "Python 3",
   "language": "python",
   "name": "python3"
  },
  "language_info": {
   "codemirror_mode": {
    "name": "ipython",
    "version": 3
   },
   "file_extension": ".py",
   "mimetype": "text/x-python",
   "name": "python",
   "nbconvert_exporter": "python",
   "pygments_lexer": "ipython3",
   "version": "3.7.10"
  }
 },
 "nbformat": 4,
 "nbformat_minor": 5
}
